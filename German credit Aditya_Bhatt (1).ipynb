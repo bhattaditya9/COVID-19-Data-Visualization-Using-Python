{
 "cells": [
  {
   "cell_type": "code",
   "execution_count": 1,
   "id": "2cb04c97",
   "metadata": {},
   "outputs": [],
   "source": [
    "import warnings\n",
    "import os\n",
    "warnings.filterwarnings('ignore')\n",
    "import numpy as np \n",
    "import pandas as pd \n",
    "import matplotlib.pyplot as plt\n",
    "import seaborn as sns\n",
    "get_ipython().run_line_magic('matplotlib', 'inline')"
   ]
  },
  {
   "cell_type": "code",
   "execution_count": 2,
   "id": "e6c53fe1",
   "metadata": {},
   "outputs": [],
   "source": [
    "os.chdir(\"D:\\Module 6\\ML\")"
   ]
  },
  {
   "cell_type": "code",
   "execution_count": 3,
   "id": "fa4c9aee",
   "metadata": {},
   "outputs": [],
   "source": [
    "credit_gem = pd.read_csv('germancredit.csv')"
   ]
  },
  {
   "cell_type": "markdown",
   "id": "89175714",
   "metadata": {},
   "source": [
    "# Data description\n",
    "The business meaning of each column in the data is as below\n",
    "\n",
    "- Default: Whether the issued loan was a good decision or bad\n",
    "- checkingstatus: Status of existing checking account.\n",
    "- duration: Duration of loan in months\n",
    "- history: Credit history of the applicant\n",
    "- purpose: Purpose for the loan\n",
    "- amount: Credit amount\n",
    "- savings: Savings account/bonds\n",
    "- employ: Present employment since\n",
    "- installment: Installment rate in percentage of disposable income\n",
    "- status: Personal status and sex\n",
    "- others: Other debtors / guarantors for the applicant\n",
    "- residence: Present residence since\n",
    "- property: Property type of applicant\n",
    "- age: Age in years\n",
    "- otherplans: Other installment plans\n",
    "- housing: Housing\n",
    "- cards: Number of existing credits at this bank\n",
    "- job: Job\n",
    "- liable: Number of people being liable to provide maintenance for\n",
    "- tele: Is the Telephone registered or not\n",
    "- foreign: Is the applicant a foreign worker"
   ]
  },
  {
   "cell_type": "code",
   "execution_count": 6,
   "id": "0a1ddbf0",
   "metadata": {},
   "outputs": [
    {
     "data": {
      "text/html": [
       "<div>\n",
       "<style scoped>\n",
       "    .dataframe tbody tr th:only-of-type {\n",
       "        vertical-align: middle;\n",
       "    }\n",
       "\n",
       "    .dataframe tbody tr th {\n",
       "        vertical-align: top;\n",
       "    }\n",
       "\n",
       "    .dataframe thead th {\n",
       "        text-align: right;\n",
       "    }\n",
       "</style>\n",
       "<table border=\"1\" class=\"dataframe\">\n",
       "  <thead>\n",
       "    <tr style=\"text-align: right;\">\n",
       "      <th></th>\n",
       "      <th>Default</th>\n",
       "      <th>checkingstatus1</th>\n",
       "      <th>duration</th>\n",
       "      <th>history</th>\n",
       "      <th>purpose</th>\n",
       "      <th>amount</th>\n",
       "      <th>savings</th>\n",
       "      <th>employ</th>\n",
       "      <th>installment</th>\n",
       "      <th>status</th>\n",
       "      <th>others</th>\n",
       "      <th>residence</th>\n",
       "      <th>property</th>\n",
       "      <th>age</th>\n",
       "      <th>otherplans</th>\n",
       "      <th>housing</th>\n",
       "      <th>cards</th>\n",
       "      <th>job</th>\n",
       "      <th>liable</th>\n",
       "      <th>tele</th>\n",
       "      <th>foreign</th>\n",
       "    </tr>\n",
       "  </thead>\n",
       "  <tbody>\n",
       "    <tr>\n",
       "      <th>0</th>\n",
       "      <td>0</td>\n",
       "      <td>A11</td>\n",
       "      <td>6</td>\n",
       "      <td>A34</td>\n",
       "      <td>A43</td>\n",
       "      <td>1169</td>\n",
       "      <td>A65</td>\n",
       "      <td>A75</td>\n",
       "      <td>4</td>\n",
       "      <td>A93</td>\n",
       "      <td>A101</td>\n",
       "      <td>4</td>\n",
       "      <td>A121</td>\n",
       "      <td>67</td>\n",
       "      <td>A143</td>\n",
       "      <td>A152</td>\n",
       "      <td>2</td>\n",
       "      <td>A173</td>\n",
       "      <td>1</td>\n",
       "      <td>A192</td>\n",
       "      <td>A201</td>\n",
       "    </tr>\n",
       "    <tr>\n",
       "      <th>1</th>\n",
       "      <td>1</td>\n",
       "      <td>A12</td>\n",
       "      <td>48</td>\n",
       "      <td>A32</td>\n",
       "      <td>A43</td>\n",
       "      <td>5951</td>\n",
       "      <td>A61</td>\n",
       "      <td>A73</td>\n",
       "      <td>2</td>\n",
       "      <td>A92</td>\n",
       "      <td>A101</td>\n",
       "      <td>2</td>\n",
       "      <td>A121</td>\n",
       "      <td>22</td>\n",
       "      <td>A143</td>\n",
       "      <td>A152</td>\n",
       "      <td>1</td>\n",
       "      <td>A173</td>\n",
       "      <td>1</td>\n",
       "      <td>A191</td>\n",
       "      <td>A201</td>\n",
       "    </tr>\n",
       "    <tr>\n",
       "      <th>2</th>\n",
       "      <td>0</td>\n",
       "      <td>A14</td>\n",
       "      <td>12</td>\n",
       "      <td>A34</td>\n",
       "      <td>A46</td>\n",
       "      <td>2096</td>\n",
       "      <td>A61</td>\n",
       "      <td>A74</td>\n",
       "      <td>2</td>\n",
       "      <td>A93</td>\n",
       "      <td>A101</td>\n",
       "      <td>3</td>\n",
       "      <td>A121</td>\n",
       "      <td>49</td>\n",
       "      <td>A143</td>\n",
       "      <td>A152</td>\n",
       "      <td>1</td>\n",
       "      <td>A172</td>\n",
       "      <td>2</td>\n",
       "      <td>A191</td>\n",
       "      <td>A201</td>\n",
       "    </tr>\n",
       "    <tr>\n",
       "      <th>3</th>\n",
       "      <td>0</td>\n",
       "      <td>A11</td>\n",
       "      <td>42</td>\n",
       "      <td>A32</td>\n",
       "      <td>A42</td>\n",
       "      <td>7882</td>\n",
       "      <td>A61</td>\n",
       "      <td>A74</td>\n",
       "      <td>2</td>\n",
       "      <td>A93</td>\n",
       "      <td>A103</td>\n",
       "      <td>4</td>\n",
       "      <td>A122</td>\n",
       "      <td>45</td>\n",
       "      <td>A143</td>\n",
       "      <td>A153</td>\n",
       "      <td>1</td>\n",
       "      <td>A173</td>\n",
       "      <td>2</td>\n",
       "      <td>A191</td>\n",
       "      <td>A201</td>\n",
       "    </tr>\n",
       "    <tr>\n",
       "      <th>4</th>\n",
       "      <td>1</td>\n",
       "      <td>A11</td>\n",
       "      <td>24</td>\n",
       "      <td>A33</td>\n",
       "      <td>A40</td>\n",
       "      <td>4870</td>\n",
       "      <td>A61</td>\n",
       "      <td>A73</td>\n",
       "      <td>3</td>\n",
       "      <td>A93</td>\n",
       "      <td>A101</td>\n",
       "      <td>4</td>\n",
       "      <td>A124</td>\n",
       "      <td>53</td>\n",
       "      <td>A143</td>\n",
       "      <td>A153</td>\n",
       "      <td>2</td>\n",
       "      <td>A173</td>\n",
       "      <td>2</td>\n",
       "      <td>A191</td>\n",
       "      <td>A201</td>\n",
       "    </tr>\n",
       "    <tr>\n",
       "      <th>5</th>\n",
       "      <td>0</td>\n",
       "      <td>A14</td>\n",
       "      <td>36</td>\n",
       "      <td>A32</td>\n",
       "      <td>A46</td>\n",
       "      <td>9055</td>\n",
       "      <td>A65</td>\n",
       "      <td>A73</td>\n",
       "      <td>2</td>\n",
       "      <td>A93</td>\n",
       "      <td>A101</td>\n",
       "      <td>4</td>\n",
       "      <td>A124</td>\n",
       "      <td>35</td>\n",
       "      <td>A143</td>\n",
       "      <td>A153</td>\n",
       "      <td>1</td>\n",
       "      <td>A172</td>\n",
       "      <td>2</td>\n",
       "      <td>A192</td>\n",
       "      <td>A201</td>\n",
       "    </tr>\n",
       "    <tr>\n",
       "      <th>6</th>\n",
       "      <td>0</td>\n",
       "      <td>A14</td>\n",
       "      <td>24</td>\n",
       "      <td>A32</td>\n",
       "      <td>A42</td>\n",
       "      <td>2835</td>\n",
       "      <td>A63</td>\n",
       "      <td>A75</td>\n",
       "      <td>3</td>\n",
       "      <td>A93</td>\n",
       "      <td>A101</td>\n",
       "      <td>4</td>\n",
       "      <td>A122</td>\n",
       "      <td>53</td>\n",
       "      <td>A143</td>\n",
       "      <td>A152</td>\n",
       "      <td>1</td>\n",
       "      <td>A173</td>\n",
       "      <td>1</td>\n",
       "      <td>A191</td>\n",
       "      <td>A201</td>\n",
       "    </tr>\n",
       "    <tr>\n",
       "      <th>7</th>\n",
       "      <td>0</td>\n",
       "      <td>A12</td>\n",
       "      <td>36</td>\n",
       "      <td>A32</td>\n",
       "      <td>A41</td>\n",
       "      <td>6948</td>\n",
       "      <td>A61</td>\n",
       "      <td>A73</td>\n",
       "      <td>2</td>\n",
       "      <td>A93</td>\n",
       "      <td>A101</td>\n",
       "      <td>2</td>\n",
       "      <td>A123</td>\n",
       "      <td>35</td>\n",
       "      <td>A143</td>\n",
       "      <td>A151</td>\n",
       "      <td>1</td>\n",
       "      <td>A174</td>\n",
       "      <td>1</td>\n",
       "      <td>A192</td>\n",
       "      <td>A201</td>\n",
       "    </tr>\n",
       "    <tr>\n",
       "      <th>8</th>\n",
       "      <td>0</td>\n",
       "      <td>A14</td>\n",
       "      <td>12</td>\n",
       "      <td>A32</td>\n",
       "      <td>A43</td>\n",
       "      <td>3059</td>\n",
       "      <td>A64</td>\n",
       "      <td>A74</td>\n",
       "      <td>2</td>\n",
       "      <td>A91</td>\n",
       "      <td>A101</td>\n",
       "      <td>4</td>\n",
       "      <td>A121</td>\n",
       "      <td>61</td>\n",
       "      <td>A143</td>\n",
       "      <td>A152</td>\n",
       "      <td>1</td>\n",
       "      <td>A172</td>\n",
       "      <td>1</td>\n",
       "      <td>A191</td>\n",
       "      <td>A201</td>\n",
       "    </tr>\n",
       "    <tr>\n",
       "      <th>9</th>\n",
       "      <td>1</td>\n",
       "      <td>A12</td>\n",
       "      <td>30</td>\n",
       "      <td>A34</td>\n",
       "      <td>A40</td>\n",
       "      <td>5234</td>\n",
       "      <td>A61</td>\n",
       "      <td>A71</td>\n",
       "      <td>4</td>\n",
       "      <td>A94</td>\n",
       "      <td>A101</td>\n",
       "      <td>2</td>\n",
       "      <td>A123</td>\n",
       "      <td>28</td>\n",
       "      <td>A143</td>\n",
       "      <td>A152</td>\n",
       "      <td>2</td>\n",
       "      <td>A174</td>\n",
       "      <td>1</td>\n",
       "      <td>A191</td>\n",
       "      <td>A201</td>\n",
       "    </tr>\n",
       "  </tbody>\n",
       "</table>\n",
       "</div>"
      ],
      "text/plain": [
       "   Default checkingstatus1  duration history purpose  amount savings employ  \\\n",
       "0        0             A11         6     A34     A43    1169     A65    A75   \n",
       "1        1             A12        48     A32     A43    5951     A61    A73   \n",
       "2        0             A14        12     A34     A46    2096     A61    A74   \n",
       "3        0             A11        42     A32     A42    7882     A61    A74   \n",
       "4        1             A11        24     A33     A40    4870     A61    A73   \n",
       "5        0             A14        36     A32     A46    9055     A65    A73   \n",
       "6        0             A14        24     A32     A42    2835     A63    A75   \n",
       "7        0             A12        36     A32     A41    6948     A61    A73   \n",
       "8        0             A14        12     A32     A43    3059     A64    A74   \n",
       "9        1             A12        30     A34     A40    5234     A61    A71   \n",
       "\n",
       "   installment status others  residence property  age otherplans housing  \\\n",
       "0            4    A93   A101          4     A121   67       A143    A152   \n",
       "1            2    A92   A101          2     A121   22       A143    A152   \n",
       "2            2    A93   A101          3     A121   49       A143    A152   \n",
       "3            2    A93   A103          4     A122   45       A143    A153   \n",
       "4            3    A93   A101          4     A124   53       A143    A153   \n",
       "5            2    A93   A101          4     A124   35       A143    A153   \n",
       "6            3    A93   A101          4     A122   53       A143    A152   \n",
       "7            2    A93   A101          2     A123   35       A143    A151   \n",
       "8            2    A91   A101          4     A121   61       A143    A152   \n",
       "9            4    A94   A101          2     A123   28       A143    A152   \n",
       "\n",
       "   cards   job  liable  tele foreign  \n",
       "0      2  A173       1  A192    A201  \n",
       "1      1  A173       1  A191    A201  \n",
       "2      1  A172       2  A191    A201  \n",
       "3      1  A173       2  A191    A201  \n",
       "4      2  A173       2  A191    A201  \n",
       "5      1  A172       2  A192    A201  \n",
       "6      1  A173       1  A191    A201  \n",
       "7      1  A174       1  A192    A201  \n",
       "8      1  A172       1  A191    A201  \n",
       "9      2  A174       1  A191    A201  "
      ]
     },
     "execution_count": 6,
     "metadata": {},
     "output_type": "execute_result"
    }
   ],
   "source": [
    "credit_gem.head(10)"
   ]
  },
  {
   "cell_type": "code",
   "execution_count": 18,
   "id": "67846247",
   "metadata": {},
   "outputs": [
    {
     "data": {
      "text/html": [
       "<div>\n",
       "<style scoped>\n",
       "    .dataframe tbody tr th:only-of-type {\n",
       "        vertical-align: middle;\n",
       "    }\n",
       "\n",
       "    .dataframe tbody tr th {\n",
       "        vertical-align: top;\n",
       "    }\n",
       "\n",
       "    .dataframe thead th {\n",
       "        text-align: right;\n",
       "    }\n",
       "</style>\n",
       "<table border=\"1\" class=\"dataframe\">\n",
       "  <thead>\n",
       "    <tr style=\"text-align: right;\">\n",
       "      <th></th>\n",
       "      <th>Default</th>\n",
       "      <th>duration</th>\n",
       "      <th>amount</th>\n",
       "      <th>installment</th>\n",
       "      <th>residence</th>\n",
       "      <th>age</th>\n",
       "      <th>cards</th>\n",
       "      <th>liable</th>\n",
       "    </tr>\n",
       "  </thead>\n",
       "  <tbody>\n",
       "    <tr>\n",
       "      <th>count</th>\n",
       "      <td>1000.000000</td>\n",
       "      <td>1000.000000</td>\n",
       "      <td>1000.000000</td>\n",
       "      <td>1000.000000</td>\n",
       "      <td>1000.000000</td>\n",
       "      <td>1000.000000</td>\n",
       "      <td>1000.000000</td>\n",
       "      <td>1000.000000</td>\n",
       "    </tr>\n",
       "    <tr>\n",
       "      <th>mean</th>\n",
       "      <td>0.300000</td>\n",
       "      <td>20.903000</td>\n",
       "      <td>3271.258000</td>\n",
       "      <td>2.973000</td>\n",
       "      <td>2.845000</td>\n",
       "      <td>35.546000</td>\n",
       "      <td>1.407000</td>\n",
       "      <td>1.155000</td>\n",
       "    </tr>\n",
       "    <tr>\n",
       "      <th>std</th>\n",
       "      <td>0.458487</td>\n",
       "      <td>12.058814</td>\n",
       "      <td>2822.736876</td>\n",
       "      <td>1.118715</td>\n",
       "      <td>1.103718</td>\n",
       "      <td>11.375469</td>\n",
       "      <td>0.577654</td>\n",
       "      <td>0.362086</td>\n",
       "    </tr>\n",
       "    <tr>\n",
       "      <th>min</th>\n",
       "      <td>0.000000</td>\n",
       "      <td>4.000000</td>\n",
       "      <td>250.000000</td>\n",
       "      <td>1.000000</td>\n",
       "      <td>1.000000</td>\n",
       "      <td>19.000000</td>\n",
       "      <td>1.000000</td>\n",
       "      <td>1.000000</td>\n",
       "    </tr>\n",
       "    <tr>\n",
       "      <th>25%</th>\n",
       "      <td>0.000000</td>\n",
       "      <td>12.000000</td>\n",
       "      <td>1365.500000</td>\n",
       "      <td>2.000000</td>\n",
       "      <td>2.000000</td>\n",
       "      <td>27.000000</td>\n",
       "      <td>1.000000</td>\n",
       "      <td>1.000000</td>\n",
       "    </tr>\n",
       "    <tr>\n",
       "      <th>50%</th>\n",
       "      <td>0.000000</td>\n",
       "      <td>18.000000</td>\n",
       "      <td>2319.500000</td>\n",
       "      <td>3.000000</td>\n",
       "      <td>3.000000</td>\n",
       "      <td>33.000000</td>\n",
       "      <td>1.000000</td>\n",
       "      <td>1.000000</td>\n",
       "    </tr>\n",
       "    <tr>\n",
       "      <th>75%</th>\n",
       "      <td>1.000000</td>\n",
       "      <td>24.000000</td>\n",
       "      <td>3972.250000</td>\n",
       "      <td>4.000000</td>\n",
       "      <td>4.000000</td>\n",
       "      <td>42.000000</td>\n",
       "      <td>2.000000</td>\n",
       "      <td>1.000000</td>\n",
       "    </tr>\n",
       "    <tr>\n",
       "      <th>max</th>\n",
       "      <td>1.000000</td>\n",
       "      <td>72.000000</td>\n",
       "      <td>18424.000000</td>\n",
       "      <td>4.000000</td>\n",
       "      <td>4.000000</td>\n",
       "      <td>75.000000</td>\n",
       "      <td>4.000000</td>\n",
       "      <td>2.000000</td>\n",
       "    </tr>\n",
       "  </tbody>\n",
       "</table>\n",
       "</div>"
      ],
      "text/plain": [
       "           Default     duration        amount  installment    residence  \\\n",
       "count  1000.000000  1000.000000   1000.000000  1000.000000  1000.000000   \n",
       "mean      0.300000    20.903000   3271.258000     2.973000     2.845000   \n",
       "std       0.458487    12.058814   2822.736876     1.118715     1.103718   \n",
       "min       0.000000     4.000000    250.000000     1.000000     1.000000   \n",
       "25%       0.000000    12.000000   1365.500000     2.000000     2.000000   \n",
       "50%       0.000000    18.000000   2319.500000     3.000000     3.000000   \n",
       "75%       1.000000    24.000000   3972.250000     4.000000     4.000000   \n",
       "max       1.000000    72.000000  18424.000000     4.000000     4.000000   \n",
       "\n",
       "               age        cards       liable  \n",
       "count  1000.000000  1000.000000  1000.000000  \n",
       "mean     35.546000     1.407000     1.155000  \n",
       "std      11.375469     0.577654     0.362086  \n",
       "min      19.000000     1.000000     1.000000  \n",
       "25%      27.000000     1.000000     1.000000  \n",
       "50%      33.000000     1.000000     1.000000  \n",
       "75%      42.000000     2.000000     1.000000  \n",
       "max      75.000000     4.000000     2.000000  "
      ]
     },
     "execution_count": 18,
     "metadata": {},
     "output_type": "execute_result"
    }
   ],
   "source": [
    "credit_gem.describe()"
   ]
  },
  {
   "cell_type": "code",
   "execution_count": 19,
   "id": "a61023a0",
   "metadata": {},
   "outputs": [
    {
     "data": {
      "text/html": [
       "<div>\n",
       "<style scoped>\n",
       "    .dataframe tbody tr th:only-of-type {\n",
       "        vertical-align: middle;\n",
       "    }\n",
       "\n",
       "    .dataframe tbody tr th {\n",
       "        vertical-align: top;\n",
       "    }\n",
       "\n",
       "    .dataframe thead th {\n",
       "        text-align: right;\n",
       "    }\n",
       "</style>\n",
       "<table border=\"1\" class=\"dataframe\">\n",
       "  <thead>\n",
       "    <tr style=\"text-align: right;\">\n",
       "      <th></th>\n",
       "      <th>checkingstatus1</th>\n",
       "      <th>history</th>\n",
       "      <th>purpose</th>\n",
       "      <th>savings</th>\n",
       "      <th>employ</th>\n",
       "      <th>status</th>\n",
       "      <th>others</th>\n",
       "      <th>property</th>\n",
       "      <th>otherplans</th>\n",
       "      <th>housing</th>\n",
       "      <th>job</th>\n",
       "      <th>tele</th>\n",
       "      <th>foreign</th>\n",
       "    </tr>\n",
       "  </thead>\n",
       "  <tbody>\n",
       "    <tr>\n",
       "      <th>count</th>\n",
       "      <td>1000</td>\n",
       "      <td>1000</td>\n",
       "      <td>1000</td>\n",
       "      <td>1000</td>\n",
       "      <td>1000</td>\n",
       "      <td>1000</td>\n",
       "      <td>1000</td>\n",
       "      <td>1000</td>\n",
       "      <td>1000</td>\n",
       "      <td>1000</td>\n",
       "      <td>1000</td>\n",
       "      <td>1000</td>\n",
       "      <td>1000</td>\n",
       "    </tr>\n",
       "    <tr>\n",
       "      <th>unique</th>\n",
       "      <td>4</td>\n",
       "      <td>5</td>\n",
       "      <td>10</td>\n",
       "      <td>5</td>\n",
       "      <td>5</td>\n",
       "      <td>4</td>\n",
       "      <td>3</td>\n",
       "      <td>4</td>\n",
       "      <td>3</td>\n",
       "      <td>3</td>\n",
       "      <td>4</td>\n",
       "      <td>2</td>\n",
       "      <td>2</td>\n",
       "    </tr>\n",
       "    <tr>\n",
       "      <th>top</th>\n",
       "      <td>A14</td>\n",
       "      <td>A32</td>\n",
       "      <td>A43</td>\n",
       "      <td>A61</td>\n",
       "      <td>A73</td>\n",
       "      <td>A93</td>\n",
       "      <td>A101</td>\n",
       "      <td>A123</td>\n",
       "      <td>A143</td>\n",
       "      <td>A152</td>\n",
       "      <td>A173</td>\n",
       "      <td>A191</td>\n",
       "      <td>A201</td>\n",
       "    </tr>\n",
       "    <tr>\n",
       "      <th>freq</th>\n",
       "      <td>394</td>\n",
       "      <td>530</td>\n",
       "      <td>280</td>\n",
       "      <td>603</td>\n",
       "      <td>339</td>\n",
       "      <td>548</td>\n",
       "      <td>907</td>\n",
       "      <td>332</td>\n",
       "      <td>814</td>\n",
       "      <td>713</td>\n",
       "      <td>630</td>\n",
       "      <td>596</td>\n",
       "      <td>963</td>\n",
       "    </tr>\n",
       "  </tbody>\n",
       "</table>\n",
       "</div>"
      ],
      "text/plain": [
       "       checkingstatus1 history purpose savings employ status others property  \\\n",
       "count             1000    1000    1000    1000   1000   1000   1000     1000   \n",
       "unique               4       5      10       5      5      4      3        4   \n",
       "top                A14     A32     A43     A61    A73    A93   A101     A123   \n",
       "freq               394     530     280     603    339    548    907      332   \n",
       "\n",
       "       otherplans housing   job  tele foreign  \n",
       "count        1000    1000  1000  1000    1000  \n",
       "unique          3       3     4     2       2  \n",
       "top          A143    A152  A173  A191    A201  \n",
       "freq          814     713   630   596     963  "
      ]
     },
     "execution_count": 19,
     "metadata": {},
     "output_type": "execute_result"
    }
   ],
   "source": [
    "credit_gem.describe(include=[object])"
   ]
  },
  {
   "cell_type": "code",
   "execution_count": 21,
   "id": "99a930fe",
   "metadata": {},
   "outputs": [
    {
     "data": {
      "text/plain": [
       "checkingstatus1    0\n",
       "history            0\n",
       "purpose            0\n",
       "savings            0\n",
       "employ             0\n",
       "status             0\n",
       "others             0\n",
       "property           0\n",
       "otherplans         0\n",
       "housing            0\n",
       "job                0\n",
       "tele               0\n",
       "foreign            0\n",
       "dtype: int64"
      ]
     },
     "execution_count": 21,
     "metadata": {},
     "output_type": "execute_result"
    }
   ],
   "source": [
    "categorical_features = [column_name for column_name in credit_gem.columns if credit_gem[column_name].dtype == 'O']\n",
    "credit_gem[categorical_features].isnull().sum() "
   ]
  },
  {
   "cell_type": "code",
   "execution_count": 22,
   "id": "c9a185a6",
   "metadata": {},
   "outputs": [
    {
     "data": {
      "text/plain": [
       "Default              2\n",
       "checkingstatus1      4\n",
       "duration            33\n",
       "history              5\n",
       "purpose             10\n",
       "amount             921\n",
       "savings              5\n",
       "employ               5\n",
       "installment          4\n",
       "status               4\n",
       "others               3\n",
       "residence            4\n",
       "property             4\n",
       "age                 53\n",
       "otherplans           3\n",
       "housing              3\n",
       "cards                4\n",
       "job                  4\n",
       "liable               2\n",
       "tele                 2\n",
       "foreign              2\n",
       "dtype: int64"
      ]
     },
     "execution_count": 22,
     "metadata": {},
     "output_type": "execute_result"
    }
   ],
   "source": [
    "credit_gem.nunique()"
   ]
  },
  {
   "cell_type": "code",
   "execution_count": 7,
   "id": "8bd250c5",
   "metadata": {},
   "outputs": [
    {
     "data": {
      "text/plain": [
       "(1000, 21)"
      ]
     },
     "execution_count": 7,
     "metadata": {},
     "output_type": "execute_result"
    }
   ],
   "source": [
    "credit_gem.shape"
   ]
  },
  {
   "cell_type": "code",
   "execution_count": 27,
   "id": "2e8ed078",
   "metadata": {},
   "outputs": [
    {
     "data": {
      "text/plain": [
       "Default             int64\n",
       "checkingstatus1    object\n",
       "duration            int64\n",
       "history            object\n",
       "purpose            object\n",
       "amount              int64\n",
       "savings            object\n",
       "employ             object\n",
       "installment         int64\n",
       "status             object\n",
       "others             object\n",
       "residence           int64\n",
       "property           object\n",
       "age                 int64\n",
       "otherplans         object\n",
       "housing            object\n",
       "cards               int64\n",
       "job                object\n",
       "liable              int64\n",
       "tele               object\n",
       "foreign            object\n",
       "dtype: object"
      ]
     },
     "execution_count": 27,
     "metadata": {},
     "output_type": "execute_result"
    }
   ],
   "source": [
    "credit_gem.dtypes"
   ]
  },
  {
   "cell_type": "markdown",
   "id": "4141c69d",
   "metadata": {},
   "source": [
    "**Check if any duplicate rows**"
   ]
  },
  {
   "cell_type": "code",
   "execution_count": 17,
   "id": "ff96a4e1",
   "metadata": {},
   "outputs": [
    {
     "name": "stdout",
     "output_type": "stream",
     "text": [
      "Shape After deleting duplicate values: (1000, 21)\n"
     ]
    }
   ],
   "source": [
    "# Removing duplicate rows if any\n",
    "credit_gem = credit_gem.drop_duplicates()\n",
    "print('Shape After deleting duplicate values:', credit_gem.shape)"
   ]
  },
  {
   "cell_type": "markdown",
   "id": "6cc27879",
   "metadata": {},
   "source": [
    "# EDA"
   ]
  },
  {
   "cell_type": "code",
   "execution_count": 13,
   "id": "8c3171be",
   "metadata": {},
   "outputs": [
    {
     "data": {
      "text/plain": [
       "<AxesSubplot:xlabel='Default'>"
      ]
     },
     "execution_count": 13,
     "metadata": {},
     "output_type": "execute_result"
    },
    {
     "data": {
      "image/png": "[encoded data removed]",
      "text/plain": [
       "<Figure size 288x216 with 1 Axes>"
      ]
     },
     "metadata": {
      "needs_background": "light"
     },
     "output_type": "display_data"
    }
   ],
   "source": [
    "GroupedData = credit_gem.groupby('Default').size()\n",
    "GroupedData.plot(kind = 'bar', figsize = (4,3))"
   ]
  },
  {
   "cell_type": "code",
   "execution_count": 82,
   "id": "fd19d769",
   "metadata": {},
   "outputs": [],
   "source": [
    "def PlotBarCharts(inpData, colsToPlot):\n",
    "    %matplotlib inline\n",
    "    \n",
    "    import matplotlib.pyplot as plt\n",
    "    \n",
    "    # Generating multiple subplots\n",
    "    \n",
    "    fig, subPlot= plt.subplots(nrows = 1, ncols = len(colsToPlot), figsize = (20,5))\n",
    "    fig.suptitle('Bar charts of: '+ str(colsToPlot))\n",
    "\n",
    "    for colName, plotNumber in zip(colsToPlot, range(len(colsToPlot))):\n",
    "        inpData.groupby(colName).size().plot(kind = 'bar',ax = subPlot[plotNumber])"
   ]
  },
  {
   "cell_type": "code",
   "execution_count": 31,
   "id": "97709230",
   "metadata": {},
   "outputs": [
    {
     "data": {
      "image/png": "[encoded data removed]",
      "text/plain": [
       "<Figure size 1440x360 with 5 Axes>"
      ]
     },
     "metadata": {
      "needs_background": "light"
     },
     "output_type": "display_data"
    }
   ],
   "source": [
    "PlotBarCharts(inpData = credit_gem, \n",
    "              colsToPlot = ['checkingstatus1', 'history', 'purpose','savings','employ'])"
   ]
  },
  {
   "cell_type": "code",
   "execution_count": 32,
   "id": "12ce41d7",
   "metadata": {},
   "outputs": [
    {
     "data": {
      "image/png": "[encoded data removed]",
      "text/plain": [
       "<Figure size 1440x360 with 5 Axes>"
      ]
     },
     "metadata": {
      "needs_background": "light"
     },
     "output_type": "display_data"
    }
   ],
   "source": [
    "PlotBarCharts(inpData = credit_gem, \n",
    "              colsToPlot = ['installment', 'status', 'others','residence', 'property'])"
   ]
  },
  {
   "cell_type": "code",
   "execution_count": 33,
   "id": "840d07b4",
   "metadata": {},
   "outputs": [
    {
     "data": {
      "image/png": "[encoded data removed]",
      "text/plain": [
       "<Figure size 1440x360 with 4 Axes>"
      ]
     },
     "metadata": {
      "needs_background": "light"
     },
     "output_type": "display_data"
    }
   ],
   "source": [
    "PlotBarCharts(inpData = credit_gem, \n",
    "              colsToPlot = ['otherplans', 'housing', 'cards', 'job'])"
   ]
  },
  {
   "cell_type": "code",
   "execution_count": 34,
   "id": "bcba4318",
   "metadata": {},
   "outputs": [
    {
     "data": {
      "image/png": "[encoded data removed]",
      "text/plain": [
       "<Figure size 1440x360 with 3 Axes>"
      ]
     },
     "metadata": {
      "needs_background": "light"
     },
     "output_type": "display_data"
    }
   ],
   "source": [
    "PlotBarCharts(inpData  = credit_gem, \n",
    "              colsToPlot = ['liable', 'tele', 'foreign'])"
   ]
  },
  {
   "cell_type": "code",
   "execution_count": 26,
   "id": "d9977a13",
   "metadata": {},
   "outputs": [
    {
     "data": {
      "image/png": "[encoded data removed]",
      "text/plain": [
       "<Figure size 1296x360 with 3 Axes>"
      ]
     },
     "metadata": {
      "needs_background": "light"
     },
     "output_type": "display_data"
    }
   ],
   "source": [
    "ContinuousColsList = ['age','amount', 'duration']\n",
    "fig, PlotCanvas = plt.subplots(nrows = 1, ncols = len(ContinuousColsList), figsize=(18,5))\n",
    "\n",
    "# Creating box plots for each continuous predictor against the Target Variable \"Default\"\n",
    "for PredictorCol , i in zip(ContinuousColsList, range(len(ContinuousColsList))):\n",
    "    credit_gem.boxplot(column = PredictorCol, by = 'Default', figsize = (5,5), vert = True, ax = PlotCanvas[i])"
   ]
  },
  {
   "cell_type": "markdown",
   "id": "877e76aa",
   "metadata": {},
   "source": [
    "#### Finding outliers in the data"
   ]
  },
  {
   "cell_type": "code",
   "execution_count": 28,
   "id": "c1bd4ff5",
   "metadata": {},
   "outputs": [
    {
     "data": {
      "text/plain": [
       "Default              0\n",
       "age                 23\n",
       "amount              72\n",
       "cards                6\n",
       "checkingstatus1      0\n",
       "duration            70\n",
       "employ               0\n",
       "foreign              0\n",
       "history              0\n",
       "housing              0\n",
       "installment          0\n",
       "job                  0\n",
       "liable             155\n",
       "otherplans           0\n",
       "others               0\n",
       "property             0\n",
       "purpose              0\n",
       "residence            0\n",
       "savings              0\n",
       "status               0\n",
       "tele                 0\n",
       "dtype: int64"
      ]
     },
     "execution_count": 28,
     "metadata": {},
     "output_type": "execute_result"
    }
   ],
   "source": [
    "Q1 = credit_gem.quantile(0.25)\n",
    "Q3 = credit_gem.quantile(0.75)\n",
    "IQR = Q3 - Q1\n",
    "((credit_gem < (Q1 - 1.5 * IQR)) | (credit_gem > (Q3 + 1.5 * IQR))).sum()"
   ]
  },
  {
   "cell_type": "markdown",
   "id": "7ac245cb",
   "metadata": {},
   "source": [
    "#### Data contains outliers in the following\n",
    "- age\n",
    "- amount\n",
    "- duration"
   ]
  },
  {
   "cell_type": "markdown",
   "id": "28f13f3d",
   "metadata": {},
   "source": [
    "### Outlier treatment"
   ]
  },
  {
   "cell_type": "code",
   "execution_count": 39,
   "id": "1f58436c",
   "metadata": {},
   "outputs": [
    {
     "data": {
      "text/plain": [
       "<AxesSubplot:>"
      ]
     },
     "execution_count": 39,
     "metadata": {},
     "output_type": "execute_result"
    },
    {
     "data": {
      "image/png": "[encoded data removed]",
      "text/plain": [
       "<Figure size 1440x216 with 1 Axes>"
      ]
     },
     "metadata": {
      "needs_background": "light"
     },
     "output_type": "display_data"
    }
   ],
   "source": [
    "import matplotlib.pyplot as plt \n",
    "plt.rcParams['figure.figsize'] = (20,3)\n",
    "sns.boxplot(data = credit_gem[\"amount\"], orient = \"h\")"
   ]
  },
  {
   "cell_type": "code",
   "execution_count": 40,
   "id": "3ab95aef",
   "metadata": {},
   "outputs": [
    {
     "data": {
      "text/plain": [
       "<AxesSubplot:>"
      ]
     },
     "execution_count": 40,
     "metadata": {},
     "output_type": "execute_result"
    },
    {
     "data": {
      "image/png": "[encoded data removed]",
      "text/plain": [
       "<Figure size 1440x216 with 1 Axes>"
      ]
     },
     "metadata": {
      "needs_background": "light"
     },
     "output_type": "display_data"
    }
   ],
   "source": [
    "import matplotlib.pyplot as plt \n",
    "plt.rcParams['figure.figsize'] = (20,3)\n",
    "sns.boxplot(data = credit_gem[\"age\"], orient = \"h\")"
   ]
  },
  {
   "cell_type": "code",
   "execution_count": 41,
   "id": "cc279eaf",
   "metadata": {},
   "outputs": [
    {
     "data": {
      "text/plain": [
       "<AxesSubplot:>"
      ]
     },
     "execution_count": 41,
     "metadata": {},
     "output_type": "execute_result"
    },
    {
     "data": {
      "image/png": "[encoded data removed]",
      "text/plain": [
       "<Figure size 1440x216 with 1 Axes>"
      ]
     },
     "metadata": {
      "needs_background": "light"
     },
     "output_type": "display_data"
    }
   ],
   "source": [
    "import matplotlib.pyplot as plt \n",
    "plt.rcParams['figure.figsize'] = (20,3)\n",
    "sns.boxplot(data = credit_gem[\"duration\"], orient = \"h\")"
   ]
  },
  {
   "cell_type": "markdown",
   "id": "c20bd08e",
   "metadata": {},
   "source": [
    "#### Capping the outliers"
   ]
  },
  {
   "cell_type": "code",
   "execution_count": 44,
   "id": "07f9943f",
   "metadata": {},
   "outputs": [],
   "source": [
    "Q1 = credit_gem['age'].quantile(0.25)\n",
    "Q3 = credit_gem['age'].quantile(0.75)\n",
    "IQR=Q3-Q1\n",
    "lr= Q1-(1.5 * IQR)\n",
    "ur= Q3+(1.5 * IQR)\n",
    "credit_gem['age'] = credit_gem['age'].mask(credit_gem['age']<lr, lr, )\n",
    "credit_gem['age'] = credit_gem['age'].mask(credit_gem['age']>ur, ur, )"
   ]
  },
  {
   "cell_type": "code",
   "execution_count": 45,
   "id": "e94baad1",
   "metadata": {},
   "outputs": [],
   "source": [
    "Q1 = credit_gem['amount'].quantile(0.25)\n",
    "Q3 = credit_gem['amount'].quantile(0.75)\n",
    "IQR=Q3-Q1\n",
    "lr= Q1-(1.5 * IQR)\n",
    "ur= Q3+(1.5 * IQR)\n",
    "credit_gem['amount'] = credit_gem['amount'].mask(credit_gem['amount']<lr, lr, )\n",
    "credit_gem['amount'] = credit_gem['amount'].mask(credit_gem['amount']>ur, ur, )"
   ]
  },
  {
   "cell_type": "code",
   "execution_count": 46,
   "id": "439364c8",
   "metadata": {},
   "outputs": [],
   "source": [
    "Q1 = credit_gem['duration'].quantile(0.25)\n",
    "Q3 = credit_gem['duration'].quantile(0.75)\n",
    "IQR=Q3-Q1\n",
    "lr= Q1-(1.5 * IQR)\n",
    "ur= Q3+(1.5 * IQR)\n",
    "credit_gem['duration'] = credit_gem['duration'].mask(credit_gem['duration']<lr, lr, )\n",
    "credit_gem['duration'] = credit_gem['duration'].mask(credit_gem['duration']>ur, ur, )"
   ]
  },
  {
   "cell_type": "code",
   "execution_count": 50,
   "id": "ffd53a14",
   "metadata": {},
   "outputs": [],
   "source": [
    "credit_gem = pd.get_dummies(credit_gem, columns=['checkingstatus1', 'history', 'purpose', 'savings', 'employ', 'status', 'others', 'property', 'otherplans', 'housing', 'job', 'tele', 'foreign'])"
   ]
  },
  {
   "cell_type": "code",
   "execution_count": 51,
   "id": "a4b6c71a",
   "metadata": {},
   "outputs": [],
   "source": [
    "X = credit_gem.drop(['Default'],axis=1)\n",
    "y = credit_gem['Default']"
   ]
  },
  {
   "cell_type": "code",
   "execution_count": 52,
   "id": "3b786017",
   "metadata": {},
   "outputs": [],
   "source": [
    "from sklearn.model_selection import train_test_split\n",
    "X_train, X_test, y_train, y_test = train_test_split(X,y, test_size = 0.2, random_state = 0)"
   ]
  },
  {
   "cell_type": "code",
   "execution_count": 53,
   "id": "f6ebf43d",
   "metadata": {},
   "outputs": [
    {
     "data": {
      "text/plain": [
       "0    558\n",
       "1    242\n",
       "Name: Default, dtype: int64"
      ]
     },
     "execution_count": 53,
     "metadata": {},
     "output_type": "execute_result"
    }
   ],
   "source": [
    "y_train.value_counts()"
   ]
  },
  {
   "cell_type": "code",
   "execution_count": 54,
   "id": "f1281022",
   "metadata": {},
   "outputs": [
    {
     "data": {
      "text/plain": [
       "0    142\n",
       "1     58\n",
       "Name: Default, dtype: int64"
      ]
     },
     "execution_count": 54,
     "metadata": {},
     "output_type": "execute_result"
    }
   ],
   "source": [
    "y_test.value_counts()"
   ]
  },
  {
   "cell_type": "code",
   "execution_count": 55,
   "id": "dbe81d94",
   "metadata": {},
   "outputs": [],
   "source": [
    "from sklearn.preprocessing import StandardScaler\n",
    "scaler = StandardScaler()\n",
    "X_train = scaler.fit_transform(X_train)"
   ]
  },
  {
   "cell_type": "code",
   "execution_count": 56,
   "id": "2fa1dc84",
   "metadata": {},
   "outputs": [],
   "source": [
    "X_test = scaler.transform(X_test)"
   ]
  },
  {
   "cell_type": "markdown",
   "id": "473ee737",
   "metadata": {},
   "source": [
    "# Logistic regression"
   ]
  },
  {
   "cell_type": "code",
   "execution_count": 57,
   "id": "5043adc4",
   "metadata": {},
   "outputs": [
    {
     "data": {
      "text/plain": [
       "LogisticRegression(random_state=0, solver='liblinear')"
      ]
     },
     "execution_count": 57,
     "metadata": {},
     "output_type": "execute_result"
    }
   ],
   "source": [
    "from sklearn.linear_model import LogisticRegression\n",
    "classifier_logreg = LogisticRegression(solver='liblinear', random_state=0)\n",
    "classifier_logreg.fit(X_train, y_train)"
   ]
  },
  {
   "cell_type": "code",
   "execution_count": 58,
   "id": "8dc4b132",
   "metadata": {},
   "outputs": [
    {
     "data": {
      "image/png": "[encoded data removed]",
      "text/plain": [
       "<Figure size 432x288 with 1 Axes>"
      ]
     },
     "metadata": {
      "needs_background": "light"
     },
     "output_type": "display_data"
    }
   ],
   "source": [
    "y_pred_logreg_proba = classifier_logreg.predict_proba(X_test)\n",
    "from sklearn.metrics import roc_curve\n",
    "fpr, tpr, thresholds = roc_curve(y_test, y_pred_logreg_proba[:,1])\n",
    "plt.figure(figsize=(6,4))\n",
    "plt.plot(fpr,tpr,'-g',linewidth=1)\n",
    "plt.plot([0,1], [0,1], 'k--' )\n",
    "plt.title('ROC curve for Logistic Regression Model')\n",
    "plt.xlabel(\"False Positive Rate\")\n",
    "plt.ylabel('True Positive Rate')\n",
    "plt.show()"
   ]
  },
  {
   "cell_type": "code",
   "execution_count": 59,
   "id": "bdb8ca3b",
   "metadata": {},
   "outputs": [
    {
     "data": {
      "text/html": [
       "<div>\n",
       "<style scoped>\n",
       "    .dataframe tbody tr th:only-of-type {\n",
       "        vertical-align: middle;\n",
       "    }\n",
       "\n",
       "    .dataframe tbody tr th {\n",
       "        vertical-align: top;\n",
       "    }\n",
       "\n",
       "    .dataframe thead th {\n",
       "        text-align: right;\n",
       "    }\n",
       "</style>\n",
       "<table border=\"1\" class=\"dataframe\">\n",
       "  <thead>\n",
       "    <tr style=\"text-align: right;\">\n",
       "      <th></th>\n",
       "      <th>fpr</th>\n",
       "      <th>tpr</th>\n",
       "      <th>threshold</th>\n",
       "    </tr>\n",
       "  </thead>\n",
       "  <tbody>\n",
       "    <tr>\n",
       "      <th>0</th>\n",
       "      <td>0.000000</td>\n",
       "      <td>0.000000</td>\n",
       "      <td>1.957759</td>\n",
       "    </tr>\n",
       "    <tr>\n",
       "      <th>1</th>\n",
       "      <td>0.000000</td>\n",
       "      <td>0.017241</td>\n",
       "      <td>0.957759</td>\n",
       "    </tr>\n",
       "    <tr>\n",
       "      <th>2</th>\n",
       "      <td>0.007042</td>\n",
       "      <td>0.017241</td>\n",
       "      <td>0.956149</td>\n",
       "    </tr>\n",
       "    <tr>\n",
       "      <th>3</th>\n",
       "      <td>0.007042</td>\n",
       "      <td>0.051724</td>\n",
       "      <td>0.946798</td>\n",
       "    </tr>\n",
       "    <tr>\n",
       "      <th>4</th>\n",
       "      <td>0.028169</td>\n",
       "      <td>0.051724</td>\n",
       "      <td>0.920621</td>\n",
       "    </tr>\n",
       "    <tr>\n",
       "      <th>...</th>\n",
       "      <td>...</td>\n",
       "      <td>...</td>\n",
       "      <td>...</td>\n",
       "    </tr>\n",
       "    <tr>\n",
       "      <th>68</th>\n",
       "      <td>0.859155</td>\n",
       "      <td>0.965517</td>\n",
       "      <td>0.025321</td>\n",
       "    </tr>\n",
       "    <tr>\n",
       "      <th>69</th>\n",
       "      <td>0.859155</td>\n",
       "      <td>0.982759</td>\n",
       "      <td>0.024933</td>\n",
       "    </tr>\n",
       "    <tr>\n",
       "      <th>70</th>\n",
       "      <td>0.873239</td>\n",
       "      <td>0.982759</td>\n",
       "      <td>0.023845</td>\n",
       "    </tr>\n",
       "    <tr>\n",
       "      <th>71</th>\n",
       "      <td>0.873239</td>\n",
       "      <td>1.000000</td>\n",
       "      <td>0.022340</td>\n",
       "    </tr>\n",
       "    <tr>\n",
       "      <th>72</th>\n",
       "      <td>1.000000</td>\n",
       "      <td>1.000000</td>\n",
       "      <td>0.005033</td>\n",
       "    </tr>\n",
       "  </tbody>\n",
       "</table>\n",
       "<p>73 rows × 3 columns</p>\n",
       "</div>"
      ],
      "text/plain": [
       "         fpr       tpr  threshold\n",
       "0   0.000000  0.000000   1.957759\n",
       "1   0.000000  0.017241   0.957759\n",
       "2   0.007042  0.017241   0.956149\n",
       "3   0.007042  0.051724   0.946798\n",
       "4   0.028169  0.051724   0.920621\n",
       "..       ...       ...        ...\n",
       "68  0.859155  0.965517   0.025321\n",
       "69  0.859155  0.982759   0.024933\n",
       "70  0.873239  0.982759   0.023845\n",
       "71  0.873239  1.000000   0.022340\n",
       "72  1.000000  1.000000   0.005033\n",
       "\n",
       "[73 rows x 3 columns]"
      ]
     },
     "execution_count": 59,
     "metadata": {},
     "output_type": "execute_result"
    }
   ],
   "source": [
    "pd.DataFrame({\"fpr\":fpr, \"tpr\":tpr, \"threshold\":thresholds})"
   ]
  },
  {
   "cell_type": "code",
   "execution_count": 60,
   "id": "14c74984",
   "metadata": {},
   "outputs": [
    {
     "data": {
      "text/plain": [
       "0.49131263534757785"
      ]
     },
     "execution_count": 60,
     "metadata": {},
     "output_type": "execute_result"
    }
   ],
   "source": [
    "thresholds[np.argmax(tpr - fpr)]"
   ]
  },
  {
   "cell_type": "code",
   "execution_count": 62,
   "id": "94ab18e9",
   "metadata": {},
   "outputs": [],
   "source": [
    "pred_proba = y_pred_logreg_proba[:,1]"
   ]
  },
  {
   "cell_type": "code",
   "execution_count": 63,
   "id": "12a08b5d",
   "metadata": {},
   "outputs": [],
   "source": [
    "preds = np.where(pred_proba>0.492, 1, 0)"
   ]
  },
  {
   "cell_type": "code",
   "execution_count": 64,
   "id": "d61435f2",
   "metadata": {},
   "outputs": [
    {
     "name": "stdout",
     "output_type": "stream",
     "text": [
      "Model accuracy: 0.75\n"
     ]
    },
    {
     "data": {
      "image/png": "[encoded data removed]",
      "text/plain": [
       "<Figure size 1440x216 with 2 Axes>"
      ]
     },
     "metadata": {
      "needs_background": "light"
     },
     "output_type": "display_data"
    }
   ],
   "source": [
    "from sklearn.metrics import confusion_matrix,accuracy_score\n",
    "cm = confusion_matrix(y_test, preds)\n",
    "s = sns.heatmap(cm ,annot=True ,fmt='d')\n",
    "s.set(xlabel='Predicted', ylabel='Actual')\n",
    "print(\"Model accuracy:\",accuracy_score(y_test, preds))"
   ]
  },
  {
   "cell_type": "markdown",
   "id": "3d574150",
   "metadata": {},
   "source": [
    "#### We are geeting model accuracy of 75% in logistic regression"
   ]
  },
  {
   "cell_type": "markdown",
   "id": "00f9bbdf",
   "metadata": {},
   "source": [
    "# Decision tree"
   ]
  },
  {
   "cell_type": "code",
   "execution_count": 65,
   "id": "8f4ebdf1",
   "metadata": {},
   "outputs": [],
   "source": [
    "from sklearn.tree import DecisionTreeClassifier\n",
    "# from sklearn.linear_model import LogisticRegression\n",
    "from sklearn.metrics import confusion_matrix, ConfusionMatrixDisplay"
   ]
  },
  {
   "cell_type": "code",
   "execution_count": 66,
   "id": "f1c0a805",
   "metadata": {},
   "outputs": [
    {
     "data": {
      "text/plain": [
       "DecisionTreeClassifier(max_depth=8, random_state=0)"
      ]
     },
     "execution_count": 66,
     "metadata": {},
     "output_type": "execute_result"
    }
   ],
   "source": [
    "classifier_dt = DecisionTreeClassifier(max_depth=8,random_state=0)\n",
    "classifier_dt.fit(X_train, y_train)"
   ]
  },
  {
   "cell_type": "code",
   "execution_count": 67,
   "id": "80cb85ec",
   "metadata": {},
   "outputs": [
    {
     "data": {
      "text/plain": [
       "array([[0.16438356, 0.83561644],\n",
       "       [0.5       , 0.5       ],\n",
       "       [1.        , 0.        ],\n",
       "       [0.94285714, 0.05714286],\n",
       "       [0.        , 1.        ],\n",
       "       [0.        , 1.        ],\n",
       "       [0.        , 1.        ],\n",
       "       [1.        , 0.        ],\n",
       "       [0.        , 1.        ],\n",
       "       [0.        , 1.        ],\n",
       "       [0.7       , 0.3       ],\n",
       "       [0.16438356, 0.83561644],\n",
       "       [0.94285714, 0.05714286],\n",
       "       [1.        , 0.        ],\n",
       "       [0.16438356, 0.83561644],\n",
       "       [0.        , 1.        ],\n",
       "       [0.94285714, 0.05714286],\n",
       "       [1.        , 0.        ],\n",
       "       [0.64864865, 0.35135135],\n",
       "       [1.        , 0.        ],\n",
       "       [0.16438356, 0.83561644],\n",
       "       [1.        , 0.        ],\n",
       "       [0.5       , 0.5       ],\n",
       "       [1.        , 0.        ],\n",
       "       [1.        , 0.        ],\n",
       "       [0.16438356, 0.83561644],\n",
       "       [1.        , 0.        ],\n",
       "       [1.        , 0.        ],\n",
       "       [1.        , 0.        ],\n",
       "       [0.16438356, 0.83561644],\n",
       "       [1.        , 0.        ],\n",
       "       [1.        , 0.        ],\n",
       "       [0.        , 1.        ],\n",
       "       [0.9       , 0.1       ],\n",
       "       [0.        , 1.        ],\n",
       "       [1.        , 0.        ],\n",
       "       [1.        , 0.        ],\n",
       "       [0.93650794, 0.06349206],\n",
       "       [0.7       , 0.3       ],\n",
       "       [1.        , 0.        ],\n",
       "       [1.        , 0.        ],\n",
       "       [1.        , 0.        ],\n",
       "       [1.        , 0.        ],\n",
       "       [0.93650794, 0.06349206],\n",
       "       [0.57692308, 0.42307692],\n",
       "       [0.13043478, 0.86956522],\n",
       "       [0.30434783, 0.69565217],\n",
       "       [0.        , 1.        ],\n",
       "       [1.        , 0.        ],\n",
       "       [0.64864865, 0.35135135],\n",
       "       [0.93650794, 0.06349206],\n",
       "       [0.16438356, 0.83561644],\n",
       "       [0.30434783, 0.69565217],\n",
       "       [1.        , 0.        ],\n",
       "       [0.16438356, 0.83561644],\n",
       "       [0.93650794, 0.06349206],\n",
       "       [0.5       , 0.5       ],\n",
       "       [1.        , 0.        ],\n",
       "       [1.        , 0.        ],\n",
       "       [0.64864865, 0.35135135],\n",
       "       [0.16438356, 0.83561644],\n",
       "       [1.        , 0.        ],\n",
       "       [0.16438356, 0.83561644],\n",
       "       [1.        , 0.        ],\n",
       "       [1.        , 0.        ],\n",
       "       [0.93650794, 0.06349206],\n",
       "       [1.        , 0.        ],\n",
       "       [0.63636364, 0.36363636],\n",
       "       [1.        , 0.        ],\n",
       "       [0.57692308, 0.42307692],\n",
       "       [1.        , 0.        ],\n",
       "       [0.94285714, 0.05714286],\n",
       "       [0.7       , 0.3       ],\n",
       "       [0.        , 1.        ],\n",
       "       [0.30434783, 0.69565217],\n",
       "       [0.        , 1.        ],\n",
       "       [0.93650794, 0.06349206],\n",
       "       [0.94285714, 0.05714286],\n",
       "       [0.84210526, 0.15789474],\n",
       "       [1.        , 0.        ],\n",
       "       [0.16438356, 0.83561644],\n",
       "       [1.        , 0.        ],\n",
       "       [0.93650794, 0.06349206],\n",
       "       [0.63636364, 0.36363636],\n",
       "       [0.84210526, 0.15789474],\n",
       "       [1.        , 0.        ],\n",
       "       [1.        , 0.        ],\n",
       "       [0.        , 1.        ],\n",
       "       [1.        , 0.        ],\n",
       "       [0.64864865, 0.35135135],\n",
       "       [1.        , 0.        ],\n",
       "       [0.64864865, 0.35135135],\n",
       "       [0.9       , 0.1       ],\n",
       "       [0.93650794, 0.06349206],\n",
       "       [1.        , 0.        ],\n",
       "       [1.        , 0.        ],\n",
       "       [0.5       , 0.5       ],\n",
       "       [0.7       , 0.3       ],\n",
       "       [0.30434783, 0.69565217],\n",
       "       [0.30434783, 0.69565217],\n",
       "       [0.94285714, 0.05714286],\n",
       "       [0.93650794, 0.06349206],\n",
       "       [1.        , 0.        ],\n",
       "       [1.        , 0.        ],\n",
       "       [0.28571429, 0.71428571],\n",
       "       [0.        , 1.        ],\n",
       "       [0.28571429, 0.71428571],\n",
       "       [0.16438356, 0.83561644],\n",
       "       [0.16438356, 0.83561644],\n",
       "       [1.        , 0.        ],\n",
       "       [0.94285714, 0.05714286],\n",
       "       [1.        , 0.        ],\n",
       "       [0.16438356, 0.83561644],\n",
       "       [0.93650794, 0.06349206],\n",
       "       [1.        , 0.        ],\n",
       "       [0.93650794, 0.06349206],\n",
       "       [0.16438356, 0.83561644],\n",
       "       [0.93650794, 0.06349206],\n",
       "       [0.5       , 0.5       ],\n",
       "       [1.        , 0.        ],\n",
       "       [1.        , 0.        ],\n",
       "       [1.        , 0.        ],\n",
       "       [0.93650794, 0.06349206],\n",
       "       [0.7       , 0.3       ],\n",
       "       [1.        , 0.        ],\n",
       "       [1.        , 0.        ],\n",
       "       [0.93650794, 0.06349206],\n",
       "       [1.        , 0.        ],\n",
       "       [1.        , 0.        ],\n",
       "       [1.        , 0.        ],\n",
       "       [0.28571429, 0.71428571],\n",
       "       [0.16438356, 0.83561644],\n",
       "       [0.16438356, 0.83561644],\n",
       "       [1.        , 0.        ],\n",
       "       [0.93650794, 0.06349206],\n",
       "       [0.30434783, 0.69565217],\n",
       "       [1.        , 0.        ],\n",
       "       [1.        , 0.        ],\n",
       "       [0.875     , 0.125     ],\n",
       "       [0.        , 1.        ],\n",
       "       [0.16438356, 0.83561644],\n",
       "       [0.5       , 0.5       ],\n",
       "       [1.        , 0.        ],\n",
       "       [0.93650794, 0.06349206],\n",
       "       [0.        , 1.        ],\n",
       "       [0.63636364, 0.36363636],\n",
       "       [1.        , 0.        ],\n",
       "       [1.        , 0.        ],\n",
       "       [0.16438356, 0.83561644],\n",
       "       [0.57692308, 0.42307692],\n",
       "       [1.        , 0.        ],\n",
       "       [0.94285714, 0.05714286],\n",
       "       [0.        , 1.        ],\n",
       "       [0.94285714, 0.05714286],\n",
       "       [0.        , 1.        ],\n",
       "       [1.        , 0.        ],\n",
       "       [0.64864865, 0.35135135],\n",
       "       [0.57692308, 0.42307692],\n",
       "       [0.93650794, 0.06349206],\n",
       "       [1.        , 0.        ],\n",
       "       [0.9       , 0.1       ],\n",
       "       [1.        , 0.        ],\n",
       "       [1.        , 0.        ],\n",
       "       [1.        , 0.        ],\n",
       "       [1.        , 0.        ],\n",
       "       [0.16438356, 0.83561644],\n",
       "       [0.16438356, 0.83561644],\n",
       "       [1.        , 0.        ],\n",
       "       [0.84210526, 0.15789474],\n",
       "       [0.        , 1.        ],\n",
       "       [0.        , 1.        ],\n",
       "       [0.93650794, 0.06349206],\n",
       "       [0.        , 1.        ],\n",
       "       [0.30434783, 0.69565217],\n",
       "       [0.93650794, 0.06349206],\n",
       "       [0.30434783, 0.69565217],\n",
       "       [0.7       , 0.3       ],\n",
       "       [1.        , 0.        ],\n",
       "       [0.7       , 0.3       ],\n",
       "       [0.93650794, 0.06349206],\n",
       "       [1.        , 0.        ],\n",
       "       [0.        , 1.        ],\n",
       "       [0.5       , 0.5       ],\n",
       "       [0.16438356, 0.83561644],\n",
       "       [0.16438356, 0.83561644],\n",
       "       [0.84210526, 0.15789474],\n",
       "       [1.        , 0.        ],\n",
       "       [0.84210526, 0.15789474],\n",
       "       [0.        , 1.        ],\n",
       "       [1.        , 0.        ],\n",
       "       [0.9       , 0.1       ],\n",
       "       [0.16438356, 0.83561644],\n",
       "       [0.94285714, 0.05714286],\n",
       "       [1.        , 0.        ],\n",
       "       [1.        , 0.        ],\n",
       "       [0.93650794, 0.06349206],\n",
       "       [0.64864865, 0.35135135],\n",
       "       [0.84210526, 0.15789474],\n",
       "       [1.        , 0.        ],\n",
       "       [1.        , 0.        ]])"
      ]
     },
     "execution_count": 67,
     "metadata": {},
     "output_type": "execute_result"
    }
   ],
   "source": [
    "y_pred_logreg_proba_dt = classifier_dt.predict_proba(X_test)\n",
    "y_pred_logreg_proba_dt"
   ]
  },
  {
   "cell_type": "code",
   "execution_count": 68,
   "id": "e369483b",
   "metadata": {},
   "outputs": [
    {
     "data": {
      "text/plain": [
       "array([1, 0, 0, 0, 1, 1, 1, 0, 1, 1, 0, 1, 0, 0, 1, 1, 0, 0, 0, 0, 1, 0,\n",
       "       0, 0, 0, 1, 0, 0, 0, 1, 0, 0, 1, 0, 1, 0, 0, 0, 0, 0, 0, 0, 0, 0,\n",
       "       0, 1, 1, 1, 0, 0, 0, 1, 1, 0, 1, 0, 0, 0, 0, 0, 1, 0, 1, 0, 0, 0,\n",
       "       0, 0, 0, 0, 0, 0, 0, 1, 1, 1, 0, 0, 0, 0, 1, 0, 0, 0, 0, 0, 0, 1,\n",
       "       0, 0, 0, 0, 0, 0, 0, 0, 0, 0, 1, 1, 0, 0, 0, 0, 1, 1, 1, 1, 1, 0,\n",
       "       0, 0, 1, 0, 0, 0, 1, 0, 0, 0, 0, 0, 0, 0, 0, 0, 0, 0, 0, 0, 1, 1,\n",
       "       1, 0, 0, 1, 0, 0, 0, 1, 1, 0, 0, 0, 1, 0, 0, 0, 1, 0, 0, 0, 1, 0,\n",
       "       1, 0, 0, 0, 0, 0, 0, 0, 0, 0, 0, 1, 1, 0, 0, 1, 1, 0, 1, 1, 0, 1,\n",
       "       0, 0, 0, 0, 0, 1, 0, 1, 1, 0, 0, 0, 1, 0, 0, 1, 0, 0, 0, 0, 0, 0,\n",
       "       0, 0], dtype=int64)"
      ]
     },
     "execution_count": 68,
     "metadata": {},
     "output_type": "execute_result"
    }
   ],
   "source": [
    "y_pred_logreg_val_dt = classifier_dt.predict(X_test)\n",
    "y_pred_logreg_val_dt"
   ]
  },
  {
   "cell_type": "code",
   "execution_count": 69,
   "id": "a6357df3",
   "metadata": {},
   "outputs": [
    {
     "data": {
      "image/png": "[encoded data removed]",
      "text/plain": [
       "<Figure size 432x288 with 1 Axes>"
      ]
     },
     "metadata": {
      "needs_background": "light"
     },
     "output_type": "display_data"
    }
   ],
   "source": [
    "from sklearn.metrics import roc_curve\n",
    "fpr_dt, tpr_dt, thresholds_dt = roc_curve(y_test, y_pred_logreg_proba_dt[:,1])\n",
    "plt.figure(figsize=(6,4))\n",
    "plt.plot(fpr_dt,tpr_dt,'-g',linewidth=1)\n",
    "plt.plot([0,1], [0,1], 'k--' )\n",
    "plt.title('ROC curve for Decision Tree Model')\n",
    "plt.xlabel(\"False Positive Rate\")\n",
    "plt.ylabel('True Positive Rate')\n",
    "plt.show()"
   ]
  },
  {
   "cell_type": "code",
   "execution_count": 70,
   "id": "98bf0023",
   "metadata": {},
   "outputs": [],
   "source": [
    "pred_proba_dt = y_pred_logreg_proba_dt[:,1]"
   ]
  },
  {
   "cell_type": "code",
   "execution_count": 71,
   "id": "3429a052",
   "metadata": {},
   "outputs": [],
   "source": [
    "preds_dt = np.where(pred_proba_dt>0.70, 1, 0)"
   ]
  },
  {
   "cell_type": "code",
   "execution_count": 72,
   "id": "38e0e94c",
   "metadata": {},
   "outputs": [
    {
     "name": "stdout",
     "output_type": "stream",
     "text": [
      "Model accuracy: 0.69\n"
     ]
    },
    {
     "data": {
      "image/png": "[encoded data removed]",
      "text/plain": [
       "<Figure size 1440x216 with 2 Axes>"
      ]
     },
     "metadata": {
      "needs_background": "light"
     },
     "output_type": "display_data"
    }
   ],
   "source": [
    "cm_dt = confusion_matrix(y_test, preds_dt)\n",
    "ConfusionMatrixDisplay(confusion_matrix = cm_dt).plot()\n",
    "print(\"Model accuracy:\",accuracy_score(y_test, preds_dt))"
   ]
  },
  {
   "cell_type": "markdown",
   "id": "c388ac92",
   "metadata": {},
   "source": [
    "#### We are geeting model accuracy of 69% in decision tree"
   ]
  },
  {
   "cell_type": "markdown",
   "id": "49537acd",
   "metadata": {},
   "source": [
    "# Randon forest"
   ]
  },
  {
   "cell_type": "code",
   "execution_count": 74,
   "id": "4619e703",
   "metadata": {},
   "outputs": [],
   "source": [
    "from sklearn.ensemble import RandomForestClassifier"
   ]
  },
  {
   "cell_type": "code",
   "execution_count": 75,
   "id": "f855901e",
   "metadata": {},
   "outputs": [
    {
     "data": {
      "text/plain": [
       "RandomForestClassifier(max_depth=8, n_estimators=20, random_state=0)"
      ]
     },
     "execution_count": 75,
     "metadata": {},
     "output_type": "execute_result"
    }
   ],
   "source": [
    "classifier_rf = RandomForestClassifier(n_estimators= 20 ,max_depth=8, random_state=0)\n",
    "classifier_rf.fit(X_train, y_train)"
   ]
  },
  {
   "cell_type": "code",
   "execution_count": 76,
   "id": "81a12ec2",
   "metadata": {},
   "outputs": [
    {
     "data": {
      "image/png": "[encoded data removed]",
      "text/plain": [
       "<Figure size 432x288 with 1 Axes>"
      ]
     },
     "metadata": {
      "needs_background": "light"
     },
     "output_type": "display_data"
    }
   ],
   "source": [
    "y_pred_logreg_proba_rf = classifier_rf.predict_proba(X_test)\n",
    "from sklearn.metrics import roc_curve\n",
    "fpr_rf, tpr_rf, thresholds_rf = roc_curve(y_test, y_pred_logreg_proba_rf[:,1])\n",
    "plt.figure(figsize=(6,4))\n",
    "plt.plot(fpr_rf,tpr_rf,'-g',linewidth=1)\n",
    "plt.plot([0,1], [0,1], 'k--' )\n",
    "plt.title('ROC curve for Random forest Model')\n",
    "plt.xlabel(\"False Positive Rate\")\n",
    "plt.ylabel('True Positive Rate')\n",
    "plt.show()"
   ]
  },
  {
   "cell_type": "code",
   "execution_count": 77,
   "id": "d45e71b6",
   "metadata": {},
   "outputs": [],
   "source": [
    "pred_proba_rf = y_pred_logreg_proba_rf[:,1]"
   ]
  },
  {
   "cell_type": "code",
   "execution_count": 78,
   "id": "020ab972",
   "metadata": {},
   "outputs": [],
   "source": [
    "preds_rf = np.where(pred_proba_rf>0.70, 1, 0)"
   ]
  },
  {
   "cell_type": "code",
   "execution_count": 79,
   "id": "94e7585c",
   "metadata": {},
   "outputs": [
    {
     "name": "stdout",
     "output_type": "stream",
     "text": [
      "Model accuracy: 0.725\n"
     ]
    },
    {
     "data": {
      "image/png": "[encoded data removed]",
      "text/plain": [
       "<Figure size 1440x216 with 2 Axes>"
      ]
     },
     "metadata": {
      "needs_background": "light"
     },
     "output_type": "display_data"
    }
   ],
   "source": [
    "cm_rf = confusion_matrix(y_test, preds_rf)\n",
    "ConfusionMatrixDisplay(confusion_matrix=cm_rf).plot()\n",
    "print(\"Model accuracy:\",accuracy_score(y_test, preds_rf))"
   ]
  },
  {
   "cell_type": "markdown",
   "id": "b9196f38",
   "metadata": {},
   "source": [
    "#### We are getting model accuracy of 72% in random forest"
   ]
  }
 ],
 "metadata": {
  "kernelspec": {
   "display_name": "Python 3 (ipykernel)",
   "language": "python",
   "name": "python3"
  },
  "language_info": {
   "codemirror_mode": {
    "name": "ipython",
    "version": 3
   },
   "file_extension": ".py",
   "mimetype": "text/x-python",
   "name": "python",
   "nbconvert_exporter": "python",
   "pygments_lexer": "ipython3",
   "version": "3.9.12"
  }
 },
 "nbformat": 4,
 "nbformat_minor": 5
}
